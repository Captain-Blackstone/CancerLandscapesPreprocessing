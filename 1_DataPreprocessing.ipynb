{
 "cells": [
  {
   "cell_type": "code",
   "execution_count": 1,
   "id": "74f2896e",
   "metadata": {},
   "outputs": [],
   "source": [
    "import pandas as pd\n",
    "from pathlib import Path\n",
    "from tqdm.notebook import tqdm"
   ]
  },
  {
   "cell_type": "code",
   "execution_count": 2,
   "id": "8dd664f3",
   "metadata": {},
   "outputs": [],
   "source": [
    "query_genes = pd.read_excel(\"data/1-s2.0-S2211124722010920-mmc2.xlsx\") # We only care about the genes from this df\n",
    "cancer_types = pd.read_excel(\"data/TCGA-CDR-SupplementalTableS1.xlsx\") # And this df maps patients to cancer type\n",
    "cancer_types = cancer_types.loc[:, [\"bcr_patient_barcode\", \"type\"]] "
   ]
  },
  {
   "cell_type": "code",
   "execution_count": 8,
   "id": "ae95d50c",
   "metadata": {},
   "outputs": [
    {
     "data": {
      "application/vnd.jupyter.widget-view+json": {
       "model_id": "c2e843a823a249059733d0c1870fe65b",
       "version_major": 2,
       "version_minor": 0
      },
      "text/plain": [
       "  0%|          | 0/3600963 [00:00<?, ?it/s]"
      ]
     },
     "metadata": {},
     "output_type": "display_data"
    }
   ],
   "source": [
    "# pandas cannot read the table because it's too large. So, I will split it into files, 100000 lines each.\n",
    "Path(\"data/partitioned_mafs\").mkdir(exist_ok=True)\n",
    "with open(\"data/mc3.v0.2.8.PUBLIC.maf\", \"r\") as fl_r:\n",
    "    file = []\n",
    "    filenumber = 1\n",
    "    for i in tqdm(range(3600963)): # I counted the number of lines in advance\n",
    "        line = fl_r.readline().strip()\n",
    "        if i == 0: # first line is column names, I need to insert it in every file\n",
    "            colnames = line\n",
    "        else:\n",
    "            file.append(line.strip())\n",
    "        if i % 100000 == 0:\n",
    "            with open(f\"data/partitioned_mafs/maf_{filenumber}.maf\", \"w\") as fl_w:\n",
    "                fl_w.write(colnames + \"\\n\".join(file))\n",
    "            file = []\n",
    "            filenumber += 1\n",
    "with open(f\"data/partitioned_mafs/maf_{filenumber}.maf\", \"w\") as fl:\n",
    "    fl.write(colnames + \"\\n\".join(file))"
   ]
  },
  {
   "cell_type": "code",
   "execution_count": 3,
   "id": "2532ffb3",
   "metadata": {
    "scrolled": true
   },
   "outputs": [
    {
     "data": {
      "application/vnd.jupyter.widget-view+json": {
       "model_id": "127154a026e846a09bc31efa04fd86f8",
       "version_major": 2,
       "version_minor": 0
      },
      "text/plain": [
       "  0%|          | 0/38 [00:00<?, ?it/s]"
      ]
     },
     "metadata": {},
     "output_type": "display_data"
    }
   ],
   "source": [
    "# Constructing the variant classification dataframe with gene name and sample code. \n",
    "# This one has 3 columns instead of > 100 and only rows with coding mutations, that's why it won't be as heavy. \n",
    "dfs = []\n",
    "substitution_types = []\n",
    "patients = []\n",
    "for i in tqdm(range(1, 39)): # just because I know that there are 39 dataframes\n",
    "    maf = pd.read_csv(f\"data/partitioned_mafs/maf_{i}.maf\", sep=\"\\t\", low_memory=False)\n",
    "    patients += [\"-\".join(el.split(\"-\")[:3]) for el in maf.Tumor_Sample_Barcode]\n",
    "    patients = list(set(patients))\n",
    "    substitution_types += list(maf.Variant_Classification.unique())\n",
    "    maf = maf.loc[:, [\"Hugo_Symbol\", \"Tumor_Sample_Barcode\", \"Variant_Classification\"] + [\"Start_Position\", \"End_Position\"]]\n",
    "    maf = maf.loc[maf.Variant_Classification.isin(\n",
    "        [\"Missense_Mutation\", \"Nonsense_Mutation\", \"Frame_Shift_Ins\", \"Frame_Shift_Del\"])] # These are coding mutations, I suppose\n",
    "    dfs.append(maf)\n",
    "df = pd.concat(dfs)\n",
    "substitution_types = list(set(substitution_types))"
   ]
  },
  {
   "cell_type": "code",
   "execution_count": 4,
   "id": "6fbec030",
   "metadata": {},
   "outputs": [
    {
     "data": {
      "text/plain": [
       "10224"
      ]
     },
     "execution_count": 4,
     "metadata": {},
     "output_type": "execute_result"
    }
   ],
   "source": [
    "len(patients)"
   ]
  },
  {
   "cell_type": "code",
   "execution_count": 5,
   "id": "91271701",
   "metadata": {},
   "outputs": [
    {
     "data": {
      "text/plain": [
       "['Silent',\n",
       " 'RNA',\n",
       " 'Intron',\n",
       " 'In_Frame_Del',\n",
       " \"5'UTR\",\n",
       " 'Frame_Shift_Ins',\n",
       " 'Nonsense_Mutation',\n",
       " \"5'Flank\",\n",
       " 'Missense_Mutation',\n",
       " 'In_Frame_Ins',\n",
       " \"3'Flank\",\n",
       " 'Nonstop_Mutation',\n",
       " 'Frame_Shift_Del',\n",
       " 'Splice_Site',\n",
       " \"3'UTR\",\n",
       " 'Translation_Start_Site']"
      ]
     },
     "execution_count": 5,
     "metadata": {},
     "output_type": "execute_result"
    }
   ],
   "source": [
    "# Splice sites?\n",
    "# Just to show to David to make sure I caught all the coding mutations\n",
    "substitution_types"
   ]
  },
  {
   "cell_type": "code",
   "execution_count": 6,
   "id": "2994963a",
   "metadata": {},
   "outputs": [],
   "source": [
    "df = df.loc[df.Hugo_Symbol.isin(list(query_genes.gene_name)), :] # Dropping genes we are not interested in\n",
    "df[\"bcr_patient_barcode\"] = df.Tumor_Sample_Barcode.apply(lambda el: \"-\".join(el.split(\"-\")[:3])) # Making the format the same as in cancer_types df\n",
    "final_df = pd.merge(df, cancer_types, on=\"bcr_patient_barcode\") # Adding cancer type column to the data\n",
    "final_df = final_df.loc[:, [\"Hugo_Symbol\", \"Variant_Classification\", \"bcr_patient_barcode\", \"type\"]]"
   ]
  },
  {
   "cell_type": "code",
   "execution_count": 7,
   "id": "3942c088",
   "metadata": {},
   "outputs": [],
   "source": [
    "# We probably want only genes that were query for this specific cancer type?\n",
    "\n",
    "query_genes[\"Hugo_Symbol\"] = query_genes[\"gene_name\"]\n",
    "query_genes[\"type\"] = query_genes[\"cancer_type\"]\n",
    "\n",
    "final_df = pd.merge(query_genes.loc[:, [\"Hugo_Symbol\", \"type\"]].reset_index(), final_df, how='inner').set_index('index')"
   ]
  },
  {
   "cell_type": "code",
   "execution_count": 41,
   "id": "08fe8fab",
   "metadata": {},
   "outputs": [],
   "source": [
    "# create table patients x genes\n",
    "\n",
    "table = pd.pivot_table(final_df.loc[:, [\"Hugo_Symbol\", \"bcr_patient_barcode\"]], index='bcr_patient_barcode', \n",
    "                       columns='Hugo_Symbol', aggfunc=lambda x: 1, fill_value=0)\n",
    "table.reset_index(inplace=True)\n",
    "# table[\"bcr_patient_barcode\"] = table.index\n",
    "table[\"cancer_type\"] = table.bcr_patient_barcode.apply(lambda el: list(final_df.loc[final_df.bcr_patient_barcode == el, \"type\"])[0])\n",
    "# table.drop(\"ind\", axis=1, inplace=True)"
   ]
  },
  {
   "cell_type": "code",
   "execution_count": 44,
   "id": "f7f71b4c",
   "metadata": {
    "scrolled": true
   },
   "outputs": [
    {
     "name": "stdout",
     "output_type": "stream",
     "text": [
      "1 TCGA-16-1048\n",
      "2 TCGA-28-2501\n",
      "3 TCGA-17-Z036\n",
      "4 TCGA-17-Z060\n",
      "5 TCGA-17-Z004\n",
      "6 TCGA-2G-AALT\n",
      "7 TCGA-17-Z014\n",
      "8 TCGA-17-Z010\n",
      "9 TCGA-17-Z030\n",
      "10 TCGA-17-Z043\n",
      "11 TCGA-17-Z022\n",
      "12 TCGA-17-Z017\n",
      "13 TCGA-17-Z002\n",
      "14 TCGA-2G-AALR\n",
      "15 TCGA-17-Z058\n",
      "16 TCGA-17-Z011\n",
      "17 TCGA-17-Z023\n",
      "18 TCGA-17-Z051\n",
      "19 TCGA-2G-AALQ\n",
      "20 TCGA-17-Z044\n",
      "21 TCGA-17-Z057\n",
      "22 TCGA-2G-AALF\n",
      "23 TCGA-2G-AALG\n",
      "24 TCGA-17-Z050\n",
      "25 TCGA-17-Z037\n",
      "26 TCGA-2G-AAM3\n",
      "27 TCGA-17-Z013\n",
      "28 TCGA-17-Z027\n",
      "29 TCGA-17-Z005\n",
      "30 TCGA-17-Z007\n",
      "31 TCGA-17-Z032\n",
      "32 TCGA-17-Z031\n",
      "33 TCGA-17-Z045\n",
      "34 TCGA-F5-6810\n",
      "35 TCGA-36-2539\n",
      "36 TCGA-17-Z033\n",
      "37 TCGA-2G-AALO\n",
      "38 TCGA-17-Z062\n",
      "39 TCGA-17-Z001\n",
      "40 TCGA-17-Z053\n",
      "41 TCGA-2G-AAM4\n",
      "42 TCGA-17-Z020\n",
      "43 TCGA-5M-AATA\n",
      "44 TCGA-17-Z047\n",
      "45 TCGA-17-Z041\n",
      "46 TCGA-17-Z026\n",
      "47 TCGA-17-Z018\n",
      "48 TCGA-2G-AAKO\n",
      "49 TCGA-17-Z009\n",
      "50 TCGA-28-2510\n",
      "51 TCGA-2G-AALY\n",
      "52 TCGA-2G-AALX\n",
      "53 TCGA-17-Z028\n",
      "54 TCGA-2G-AAM2\n",
      "55 TCGA-2G-AALW\n",
      "56 TCGA-17-Z056\n",
      "57 TCGA-17-Z052\n",
      "58 TCGA-2G-AALS\n",
      "59 TCGA-17-Z059\n",
      "60 TCGA-17-Z048\n",
      "61 TCGA-17-Z000\n",
      "62 TCGA-17-Z042\n",
      "63 TCGA-17-Z025\n",
      "64 TCGA-5M-AAT5\n",
      "65 TCGA-2G-AALZ\n",
      "66 TCGA-17-Z021\n",
      "67 TCGA-17-Z049\n",
      "68 TCGA-17-Z019\n",
      "69 TCGA-17-Z055\n",
      "70 TCGA-AB-2852\n",
      "71 TCGA-17-Z054\n",
      "72 TCGA-17-Z016\n",
      "73 TCGA-2G-AALN\n",
      "74 TCGA-R8-A6YH\n",
      "75 TCGA-17-Z015\n",
      "76 TCGA-17-Z061\n",
      "77 TCGA-17-Z003\n"
     ]
    }
   ],
   "source": [
    "# Add 0 counts to the table\n",
    "\n",
    "i = 0\n",
    "for patient in patients:\n",
    "    if patient not in list(table.bcr_patient_barcode): # If patient is not in the patients x genes table\n",
    "        if patient in list(cancer_types.bcr_patient_barcode): # But he had at least one of the cancers we are interested in\n",
    "            dct = {el: [0] for el in list(table.columns)[1:-1]} # Creating a dictionary that I will make into a new line of the table. Line with zeros.\n",
    "            dct[\"bcr_patient_barcode\"] = [patient]\n",
    "            ct = list(cancer_types.loc[cancer_types.bcr_patient_barcode == patient, \"type\"])[0] # ct for cancer type\n",
    "            dct[\"cancer_type\"] = [ct]\n",
    "            table = pd.concat([table, pd.DataFrame.from_dict(dct)])\n",
    "        else:\n",
    "            i += 1\n",
    "            print(i, patient)\n",
    "        "
   ]
  },
  {
   "cell_type": "code",
   "execution_count": 46,
   "id": "e8808fa9",
   "metadata": {},
   "outputs": [],
   "source": [
    "table.to_csv(\"preprocessed_data_query_genes_by_cancer_type.tsv\", sep=\"\\t\", index=False)"
   ]
  }
 ],
 "metadata": {
  "kernelspec": {
   "display_name": "Python 3 (ipykernel)",
   "language": "python",
   "name": "python3"
  },
  "language_info": {
   "codemirror_mode": {
    "name": "ipython",
    "version": 3
   },
   "file_extension": ".py",
   "mimetype": "text/x-python",
   "name": "python",
   "nbconvert_exporter": "python",
   "pygments_lexer": "ipython3",
   "version": "3.10.12"
  }
 },
 "nbformat": 4,
 "nbformat_minor": 5
}
